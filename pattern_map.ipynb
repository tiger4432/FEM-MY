{
  "cells": [
    {
      "cell_type": "markdown",
      "metadata": {},
      "source": [
        "# 2D 연속 패턴 생성기\n",
        "\n",
        "이 노트북은 다양한 2D 연속 패턴을 생성하고 시각화합니다."
      ]
    },
    {
      "cell_type": "code",
      "execution_count": 10,
      "metadata": {},
      "outputs": [],
      "source": [
        "import numpy as np\n",
        "import matplotlib.pyplot as plt\n",
        "from ipywidgets import interact, widgets\n",
        "import os\n",
        "from datetime import datetime\n",
        "from PIL import Image\n",
        "\n",
        "# 저장된 패턴을 보관할 디렉토리 생성\n",
        "if not os.path.exists('saved_patterns'):\n",
        "    os.makedirs('saved_patterns')\n",
        "\n",
        "def save_pattern(pattern, pattern_type, params, cmap='viridis'):\n",
        "    \"\"\"패턴 데이터만 이미지 파일로 저장\"\"\"\n",
        "    timestamp = datetime.now().strftime('%Y%m%d_%H%M%S')\n",
        "    filename = f'saved_patterns/{pattern_type}_{timestamp}.png'\n",
        "    \n",
        "    # 패턴 데이터를 0-255 범위로 정규화\n",
        "    normalized_pattern = (pattern - pattern.min()) / (pattern.max() - pattern.min())\n",
        "    normalized_pattern = (normalized_pattern * 255).astype(np.uint8)\n",
        "    \n",
        "    # PIL 이미지로 변환\n",
        "    img = Image.fromarray(normalized_pattern)\n",
        "    \n",
        "    # 이미지 저장\n",
        "    img.save(filename)\n",
        "    \n",
        "    return filename\n",
        "\n",
        "def create_checkerboard(size, amplitude=1.0):\n",
        "    \"\"\"체커보드 패턴 생성 (연속값)\"\"\"\n",
        "    x, y = np.meshgrid(np.linspace(0, 2*np.pi, size), np.linspace(0, 2*np.pi, size))\n",
        "    return amplitude * np.sin(x) * np.sin(y)\n",
        "\n",
        "def create_spiral(size, frequency=10, rotation=5, amplitude=1.0):\n",
        "    \"\"\"나선형 패턴 생성 (연속값)\"\"\"\n",
        "    x, y = np.meshgrid(np.linspace(-1, 1, size), np.linspace(-1, 1, size))\n",
        "    r = np.sqrt(x**2 + y**2)\n",
        "    theta = np.arctan2(y, x)\n",
        "    return amplitude * np.sin(r * frequency + theta * rotation)\n",
        "\n",
        "def create_wave(size, frequency_x=1, frequency_y=1, amplitude=1.0):\n",
        "    \"\"\"파동 패턴 생성 (연속값)\"\"\"\n",
        "    x, y = np.meshgrid(np.linspace(0, 2*np.pi, size), np.linspace(0, 2*np.pi, size))\n",
        "    return amplitude * np.sin(x * frequency_x) * np.cos(y * frequency_y)\n",
        "\n",
        "def create_maze(size, seed=42, amplitude=1.0):\n",
        "    \"\"\"미로 패턴 생성 (연속값)\"\"\"\n",
        "    np.random.seed(seed)\n",
        "    maze = np.zeros((size, size))\n",
        "    for i in range(1, size-1, 2):\n",
        "        for j in range(1, size-1, 2):\n",
        "            maze[i,j] = amplitude * np.random.random()\n",
        "            if np.random.random() > 0.5:\n",
        "                maze[i+1,j] = amplitude * np.random.random()\n",
        "            else:\n",
        "                maze[i,j+1] = amplitude * np.random.random()\n",
        "    return maze\n",
        "\n",
        "def create_custom_pattern(size, mod1=3, mod2=4, amplitude=1.0):\n",
        "    \"\"\"사용자 정의 패턴 생성 (연속값)\"\"\"\n",
        "    pattern = np.zeros((size, size))\n",
        "    for i in range(size):\n",
        "        for j in range(size):\n",
        "            if (i + j) % mod1 == 0 or (i - j) % mod2 == 0:\n",
        "                pattern[i,j] = amplitude * np.sin(i/mod1) * np.cos(j/mod2)\n",
        "            else:\n",
        "                pattern[i,j] = amplitude * np.sin(i/mod2) * np.cos(j/mod1)\n",
        "    return pattern"
      ]
    },
    {
      "cell_type": "markdown",
      "metadata": {},
      "source": [
        "## 체커보드 패턴"
      ]
    },
    {
      "cell_type": "code",
      "execution_count": null,
      "metadata": {},
      "outputs": [],
      "source": [
        "@interact(\n",
        "    size=widgets.IntSlider(min=10, max=100, step=5, value=50),\n",
        "    amplitude=widgets.FloatSlider(min=0.1, max=2.0, step=0.1, value=1.0),\n",
        "    cmap=widgets.Dropdown(options=['viridis', 'plasma', 'inferno', 'magma', 'coolwarm', 'rainbow'], value='viridis')\n",
        ")\n",
        "def plot_checkerboard(size, amplitude, cmap):\n",
        "    pattern = create_checkerboard(size, amplitude)\n",
        "    plt.figure(figsize=(8, 8))\n",
        "    plt.imshow(pattern, cmap=cmap)\n",
        "    plt.colorbar(label='Value')\n",
        "    plt.title(f'Checkerboard Pattern (Size: {size}x{size}, Amplitude: {amplitude})')\n",
        "    plt.axis('off')\n",
        "    plt.show()\n",
        "    \n",
        "    # 패턴 저장\n",
        "    params = f'size={size}, amplitude={amplitude}'\n",
        "    filename = save_pattern(pattern, 'checkerboard', params, cmap)\n",
        "    print(f'패턴이 저장되었습니다: {filename}')"
      ]
    },
    {
      "cell_type": "markdown",
      "metadata": {},
      "source": [
        "## 나선형 패턴"
      ]
    },
    {
      "cell_type": "code",
      "execution_count": null,
      "metadata": {},
      "outputs": [],
      "source": [
        "@interact(\n",
        "    size=widgets.IntSlider(min=10, max=100, step=5, value=50),\n",
        "    frequency=widgets.FloatSlider(min=1, max=20, step=1, value=10),\n",
        "    rotation=widgets.FloatSlider(min=1, max=20, step=1, value=5),\n",
        "    amplitude=widgets.FloatSlider(min=0.1, max=2.0, step=0.1, value=1.0),\n",
        "    cmap=widgets.Dropdown(options=['viridis', 'plasma', 'inferno', 'magma', 'coolwarm', 'rainbow'], value='viridis')\n",
        ")\n",
        "def plot_spiral(size, frequency, rotation, amplitude, cmap):\n",
        "    pattern = create_spiral(size, frequency, rotation, amplitude)\n",
        "    plt.figure(figsize=(8, 8))\n",
        "    plt.imshow(pattern, cmap=cmap)\n",
        "    plt.colorbar(label='Value')\n",
        "    plt.title(f'Spiral Pattern (Size: {size}x{size}, Frequency: {frequency}, Rotation: {rotation}, Amplitude: {amplitude})')\n",
        "    plt.axis('off')\n",
        "    plt.show()\n",
        "    \n",
        "    # 패턴 저장\n",
        "    params = f'size={size}, frequency={frequency}, rotation={rotation}, amplitude={amplitude}'\n",
        "    filename = save_pattern(pattern, 'spiral', params, cmap)\n",
        "    print(f'패턴이 저장되었습니다: {filename}')"
      ]
    },
    {
      "cell_type": "markdown",
      "metadata": {},
      "source": [
        "## 파동 패턴"
      ]
    },
    {
      "cell_type": "code",
      "execution_count": 11,
      "metadata": {},
      "outputs": [
        {
          "data": {
            "application/vnd.jupyter.widget-view+json": {
              "model_id": "a68a709cbada43e0809697738f7ee975",
              "version_major": 2,
              "version_minor": 0
            },
            "text/plain": [
              "interactive(children=(IntSlider(value=50, description='size', min=10, step=5), FloatSlider(value=1.0, descript…"
            ]
          },
          "metadata": {},
          "output_type": "display_data"
        }
      ],
      "source": [
        "@interact(\n",
        "    size=widgets.IntSlider(min=10, max=100, step=5, value=50),\n",
        "    frequency_x=widgets.FloatSlider(min=0.1, max=5, step=0.1, value=1),\n",
        "    frequency_y=widgets.FloatSlider(min=0.1, max=5, step=0.1, value=1),\n",
        "    amplitude=widgets.FloatSlider(min=0.1, max=2.0, step=0.1, value=1.0),\n",
        "    cmap=widgets.Dropdown(options=['viridis', 'plasma', 'inferno', 'magma', 'coolwarm', 'rainbow'], value='viridis')\n",
        ")\n",
        "def plot_wave(size, frequency_x, frequency_y, amplitude, cmap):\n",
        "    pattern = create_wave(size, frequency_x, frequency_y, amplitude)\n",
        "    plt.figure(figsize=(8, 8))\n",
        "    plt.imshow(pattern, cmap=cmap)\n",
        "    plt.colorbar(label='Value')\n",
        "    plt.title(f'Wave Pattern (Size: {size}x{size}, Fx: {frequency_x}, Fy: {frequency_y}, Amplitude: {amplitude})')\n",
        "    plt.axis('off')\n",
        "    plt.show()\n",
        "    \n",
        "    # 패턴 저장\n",
        "    params = f'size={size}, frequency_x={frequency_x}, frequency_y={frequency_y}, amplitude={amplitude}'\n",
        "    filename = save_pattern(pattern, 'wave', params, cmap)\n",
        "    print(f'패턴이 저장되었습니다: {filename}')"
      ]
    },
    {
      "cell_type": "markdown",
      "metadata": {},
      "source": [
        "## 미로 패턴"
      ]
    },
    {
      "cell_type": "code",
      "execution_count": null,
      "metadata": {},
      "outputs": [],
      "source": [
        "@interact(\n",
        "    size=widgets.IntSlider(min=10, max=100, step=5, value=50),\n",
        "    seed=widgets.IntSlider(min=0, max=100, step=1, value=42),\n",
        "    amplitude=widgets.FloatSlider(min=0.1, max=2.0, step=0.1, value=1.0),\n",
        "    cmap=widgets.Dropdown(options=['viridis', 'plasma', 'inferno', 'magma', 'coolwarm', 'rainbow'], value='viridis')\n",
        ")\n",
        "def plot_maze(size, seed, amplitude, cmap):\n",
        "    pattern = create_maze(size, seed, amplitude)\n",
        "    plt.figure(figsize=(8, 8))\n",
        "    plt.imshow(pattern, cmap=cmap)\n",
        "    plt.colorbar(label='Value')\n",
        "    plt.title(f'Maze Pattern (Size: {size}x{size}, Seed: {seed}, Amplitude: {amplitude})')\n",
        "    plt.axis('off')\n",
        "    plt.show()\n",
        "    \n",
        "    # 패턴 저장\n",
        "    params = f'size={size}, seed={seed}, amplitude={amplitude}'\n",
        "    filename = save_pattern(pattern, 'maze', params, cmap)\n",
        "    print(f'패턴이 저장되었습니다: {filename}')"
      ]
    },
    {
      "cell_type": "markdown",
      "metadata": {},
      "source": [
        "## 사용자 정의 패턴"
      ]
    },
    {
      "cell_type": "code",
      "execution_count": null,
      "metadata": {},
      "outputs": [],
      "source": [
        "@interact(\n",
        "    size=widgets.IntSlider(min=10, max=100, step=5, value=50),\n",
        "    mod1=widgets.IntSlider(min=2, max=10, step=1, value=3),\n",
        "    mod2=widgets.IntSlider(min=2, max=10, step=1, value=4),\n",
        "    amplitude=widgets.FloatSlider(min=0.1, max=2.0, step=0.1, value=1.0),\n",
        "    cmap=widgets.Dropdown(options=['viridis', 'plasma', 'inferno', 'magma', 'coolwarm', 'rainbow'], value='viridis')\n",
        ")\n",
        "def plot_custom(size, mod1, mod2, amplitude, cmap):\n",
        "    pattern = create_custom_pattern(size, mod1, mod2, amplitude)\n",
        "    plt.figure(figsize=(8, 8))\n",
        "    plt.imshow(pattern, cmap=cmap)\n",
        "    plt.colorbar(label='Value')\n",
        "    plt.title(f'Custom Pattern (Size: {size}x{size}, Mod1: {mod1}, Mod2: {mod2}, Amplitude: {amplitude})')\n",
        "    plt.axis('off')\n",
        "    plt.show()\n",
        "    \n",
        "    # 패턴 저장\n",
        "    params = f'size={size}, mod1={mod1}, mod2={mod2}, amplitude={amplitude}'\n",
        "    filename = save_pattern(pattern, 'custom', params, cmap)\n",
        "    print(f'패턴이 저장되었습니다: {filename}')"
      ]
    },
    {
      "cell_type": "markdown",
      "metadata": {},
      "source": [
        "## 저장된 패턴 목록"
      ]
    },
    {
      "cell_type": "code",
      "execution_count": null,
      "metadata": {},
      "outputs": [],
      "source": [
        "def display_saved_patterns():\n",
        "    \"\"\"저장된 패턴 목록을 표시\"\"\"\n",
        "    if not os.path.exists('saved_patterns'):\n",
        "        print('저장된 패턴이 없습니다.')\n",
        "        return\n",
        "    \n",
        "    files = sorted(os.listdir('saved_patterns'))\n",
        "    if not files:\n",
        "        print('저장된 패턴이 없습니다.')\n",
        "        return\n",
        "    \n",
        "    print('저장된 패턴 목록:')\n",
        "    for file in files:\n",
        "        if file.endswith('.png'):\n",
        "            print(f'- {file}')\n",
        "            \n",
        "            # 이미지 표시\n",
        "            plt.figure(figsize=(6, 6))\n",
        "            img = plt.imread(f'saved_patterns/{file}')\n",
        "            plt.imshow(img, cmap='gray')\n",
        "            plt.axis('off')\n",
        "            plt.title(file)\n",
        "            plt.show()\n",
        "\n",
        "display_saved_patterns()"
      ]
    }
  ],
  "metadata": {
    "kernelspec": {
      "display_name": "Python 3",
      "language": "python",
      "name": "python3"
    },
    "language_info": {
      "codemirror_mode": {
        "name": "ipython",
        "version": 3
      },
      "file_extension": ".py",
      "mimetype": "text/x-python",
      "name": "python",
      "nbconvert_exporter": "python",
      "pygments_lexer": "ipython3",
      "version": "3.8.0"
    }
  },
  "nbformat": 4,
  "nbformat_minor": 4
}
