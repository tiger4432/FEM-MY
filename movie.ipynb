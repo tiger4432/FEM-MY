{
 "cells": [
  {
   "cell_type": "code",
   "execution_count": 11,
   "metadata": {},
   "outputs": [],
   "source": [
    "from glob import glob\n",
    "import os\n",
    "\n",
    "\n",
    "\n",
    "path = 'save/20250513_084437'\n",
    "\n",
    "flist = glob(f'{path}/*/*.png')"
   ]
  },
  {
   "cell_type": "code",
   "execution_count": 9,
   "metadata": {},
   "outputs": [],
   "source": [
    "import cv2\n",
    "import os\n",
    "\n",
    "image_folder = 'images'\n",
    "video_name = 'video.avi'\n",
    "\n",
    "images = sorted(flist, key=lambda x: int(x.split('\\\\')[1]))\n",
    "frame = cv2.imread(images[0])\n",
    "height, width, layers = frame.shape\n",
    "\n",
    "video = cv2.VideoWriter(video_name, 0, 1, (width,height))\n",
    "\n",
    "for image in images:\n",
    "    video.write(cv2.imread(os.path.join(image_folder, image)))\n",
    "\n",
    "cv2.destroyAllWindows()\n",
    "video.release()"
   ]
  },
  {
   "cell_type": "code",
   "execution_count": 13,
   "metadata": {},
   "outputs": [
    {
     "name": "stdout",
     "output_type": "stream",
     "text": [
      "['save/20250513_084437\\\\0\\\\stress_displacement.png', 'save/20250513_084437\\\\1\\\\stress_displacement.png', 'save/20250513_084437\\\\2\\\\stress_displacement.png', 'save/20250513_084437\\\\3\\\\stress_displacement.png', 'save/20250513_084437\\\\4\\\\stress_displacement.png', 'save/20250513_084437\\\\5\\\\stress_displacement.png', 'save/20250513_084437\\\\6\\\\stress_displacement.png', 'save/20250513_084437\\\\7\\\\stress_displacement.png', 'save/20250513_084437\\\\8\\\\stress_displacement.png', 'save/20250513_084437\\\\9\\\\stress_displacement.png', 'save/20250513_084437\\\\10\\\\stress_displacement.png', 'save/20250513_084437\\\\11\\\\stress_displacement.png', 'save/20250513_084437\\\\12\\\\stress_displacement.png', 'save/20250513_084437\\\\13\\\\stress_displacement.png', 'save/20250513_084437\\\\14\\\\stress_displacement.png', 'save/20250513_084437\\\\15\\\\stress_displacement.png', 'save/20250513_084437\\\\16\\\\stress_displacement.png', 'save/20250513_084437\\\\17\\\\stress_displacement.png', 'save/20250513_084437\\\\18\\\\stress_displacement.png', 'save/20250513_084437\\\\19\\\\stress_displacement.png', 'save/20250513_084437\\\\20\\\\stress_displacement.png', 'save/20250513_084437\\\\21\\\\stress_displacement.png', 'save/20250513_084437\\\\22\\\\stress_displacement.png', 'save/20250513_084437\\\\23\\\\stress_displacement.png', 'save/20250513_084437\\\\24\\\\stress_displacement.png', 'save/20250513_084437\\\\25\\\\stress_displacement.png', 'save/20250513_084437\\\\26\\\\stress_displacement.png', 'save/20250513_084437\\\\27\\\\stress_displacement.png', 'save/20250513_084437\\\\28\\\\stress_displacement.png', 'save/20250513_084437\\\\29\\\\stress_displacement.png', 'save/20250513_084437\\\\30\\\\stress_displacement.png', 'save/20250513_084437\\\\31\\\\stress_displacement.png', 'save/20250513_084437\\\\32\\\\stress_displacement.png', 'save/20250513_084437\\\\33\\\\stress_displacement.png', 'save/20250513_084437\\\\34\\\\stress_displacement.png', 'save/20250513_084437\\\\35\\\\stress_displacement.png', 'save/20250513_084437\\\\36\\\\stress_displacement.png', 'save/20250513_084437\\\\37\\\\stress_displacement.png', 'save/20250513_084437\\\\38\\\\stress_displacement.png', 'save/20250513_084437\\\\39\\\\stress_displacement.png', 'save/20250513_084437\\\\40\\\\stress_displacement.png', 'save/20250513_084437\\\\41\\\\stress_displacement.png', 'save/20250513_084437\\\\42\\\\stress_displacement.png', 'save/20250513_084437\\\\43\\\\stress_displacement.png', 'save/20250513_084437\\\\44\\\\stress_displacement.png']\n",
      "MoviePy - Building video myvideo.mp4.\n",
      "MoviePy - Writing video myvideo.mp4\n",
      "\n"
     ]
    },
    {
     "name": "stderr",
     "output_type": "stream",
     "text": [
      "                                                                      \r"
     ]
    },
    {
     "name": "stdout",
     "output_type": "stream",
     "text": [
      "MoviePy - Done !\n",
      "MoviePy - video ready myvideo.mp4\n"
     ]
    }
   ],
   "source": [
    "import os\n",
    "import moviepy.video.io.ImageSequenceClip\n",
    "from PIL import Image, ImageFile\n",
    "ImageFile.LOAD_TRUNCATED_IMAGES = True\n",
    "\n",
    "image_folder='frames'\n",
    "fps=10\n",
    "\n",
    "\n",
    "image_files = sorted(flist, key=lambda x: int(x.split('\\\\')[1]))[:45]\n",
    "print(image_files)\n",
    "\n",
    "clip = moviepy.video.io.ImageSequenceClip.ImageSequenceClip(image_files, fps=fps)\n",
    "clip.write_videofile('myvideo.mp4')"
   ]
  }
 ],
 "metadata": {
  "kernelspec": {
   "display_name": "base",
   "language": "python",
   "name": "python3"
  },
  "language_info": {
   "codemirror_mode": {
    "name": "ipython",
    "version": 3
   },
   "file_extension": ".py",
   "mimetype": "text/x-python",
   "name": "python",
   "nbconvert_exporter": "python",
   "pygments_lexer": "ipython3",
   "version": "3.12.3"
  }
 },
 "nbformat": 4,
 "nbformat_minor": 2
}
